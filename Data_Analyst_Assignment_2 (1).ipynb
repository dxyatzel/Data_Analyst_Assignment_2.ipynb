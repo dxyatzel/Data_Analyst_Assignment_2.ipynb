{
  "nbformat": 4,
  "nbformat_minor": 0,
  "metadata": {
    "colab": {
      "provenance": []
    },
    "kernelspec": {
      "name": "python3",
      "display_name": "Python 3"
    },
    "language_info": {
      "name": "python"
    }
  },
  "cells": [
    {
      "cell_type": "markdown",
      "metadata": {
        "id": "aLnNZc0IvUn3"
      },
      "source": [
        "#Data Analyst Assignment"
      ]
    },
    {
      "cell_type": "code",
      "source": [],
      "metadata": {
        "id": "YPDmSkzg98rH"
      },
      "execution_count": null,
      "outputs": []
    },
    {
      "cell_type": "markdown",
      "source": [
        "## Data Challenge\n",
        "\n",
        "Sales leadership has tasked you with analyzing the data to discover how employee training\n",
        "impacts sales performance and effectiveness. The goal is to identify patterns and provide\n",
        "actionable recommendations that drive sales growth and improve team performance by\n",
        "answering the following questions.\n",
        "Questions\n",
        "1. What is the training completion rate for each course by segments (SVP Leader/Region),\n",
        "factoring in the following caveats? Training is required for all employees except:\n",
        "* Employees currently on leave are exempt from the training requirement.\n",
        "* 'Sell More Suite SKU' course is not required for employees within the 'Advocacy'\n",
        "cost center family.\n",
        "* “Suite/Automation Technical Lab” and “Advanced Suite Bots Lab Course”\n",
        "courses are required only for employees in the 'PreSales' and 'Services' cost\n",
        "center family.\n",
        "\n",
        "2. How would you analyze the performance of an account executive? Is there a difference\n",
        "between those who have completed training and those who have not? How would you\n",
        "segment the data and present your findings to senior stakeholders?\n",
        "* Hint: Look at this from an overall employee perspective who has completed any\n",
        "training vs. those who have not completed any training. Any training would count,\n",
        "\n",
        "rather than distinguishing which specific courses were completed, as they all\n",
        "contribute to one Suite product.\n",
        "\n",
        "3. Any other interesting insights that you can see in the data? Any data quality issues with\n",
        "the data? Any challenges with analyzing the data? What additional data do you think\n",
        "would be useful for further analyzing the existing datasets?\n",
        "\n",
        "\n",
        "\n",
        "---"
      ],
      "metadata": {
        "id": "LTh6MXO9PAia"
      }
    },
    {
      "cell_type": "markdown",
      "source": [
        "## Data Dictionary\n",
        "\n",
        "### Table 1 : Employee Information\n",
        "\n",
        "This table maintains critical employment details for organization members, including\n",
        "identification, job titles, management hierarchies, tenure, and work region\n",
        "\n",
        "* **Employee_ID:** Unique identifier for each employee.\n",
        "* **SVP Leader:** Leader overseeing the employee.\n",
        "* **Business Title:** Official job title of the employee.\n",
        "* **Cost Center:** Identifier for the employee's department or unit for cost tracking.\n",
        "* **Cost Center Family:** Group of related cost centers for financial reporting.\n",
        "* **Length of Service:** Total time the employee has worked at the company.\n",
        "* **Leave Status:** Indication of whether the employee is on leave.\n",
        "* **Is People Manager?:** Indicates if the employee oversees other staff.\n",
        "* **Region:** Geographic area where the employee works.\n",
        "* **Manager IC Helper:** Additional data supporting managerial status.\n",
        "* **IC:** Individual Contributor\n",
        "\n",
        "### Table 2: Completed Trainings\n",
        "This table records the professional development activities of employees by linking completed\n",
        "training programs to their unique identifiers\n",
        "* **Employee_ID:** Unique identifier linked to an employee who completed the training.\n",
        "* **Training Name:** Name of the training program or course that the employee completed.\n",
        "\n",
        "### Table 3: Performance Data\n",
        "This table includes the sales and revenue generation activities of employees by cataloguing\n",
        "opportunities, their progression, and financial outcomes. It captures granular data on sales\n",
        "stage milestones, product-related charges, and revenue figures, all linked by employee and\n",
        "opportunity identifiers, making it a vital asset for analyzing sales performance and compensation\n",
        "metrics.\n",
        "\n",
        "* **Employee_ID:** Unique identifier for the employee associated.\n",
        "* **Opportunity ID:** Unique identifier for the sales opportunity.\n",
        "* **Type:** The category or classification of the opportunity.\n",
        "* Expansion is for existing business\n",
        "\n",
        "* **Stage 2+ Date:** The date when the opportunity reached or surpassed stage 2 in the\n",
        "sales process.\n",
        "* **Stage:** Current stage of the opportunity in the sales pipeline.\n",
        " * 02 - Discovery: Initial stage where potential needs and opportunities are\n",
        "identified with the client.\n",
        " * 03 - Solution Review: Potential solutions are presented and reviewed with the\n",
        "client.\n",
        " * 04 - Solution Validation: Client feedback is incorporated, and solutions are\n",
        "refined and validated.\n",
        " * 05 - Contracting / Verba: Terms are negotiated and a verbal agreement may be\n",
        "reached.\n",
        " * 06 - Signed/07 - Closed: Formal agreement is executed with signatures from all\n",
        "parties. Signed and Closed are counted as finalized\n",
        "* **Close Date:** The date when the opportunity was closed.\n",
        "* **Product Rate Plan Charge:** The charge associated with the product's rate plan.\n",
        "* **Product Name:** The name of the product related to the opportunity.\n",
        "* **Add-On ARR (converted):** The value of the additional ARR from add-ons,\n",
        "* **Total Commissionable ARR (converted):** The total annual recurring revenue that is\n",
        "eligible for commission"
      ],
      "metadata": {
        "id": "4rMbZLq2Poce"
      }
    },
    {
      "cell_type": "code",
      "source": [
        "import pandas as pd\n",
        "\n",
        "# Cargar los datos de la tabla de información del empleado\n",
        "file_path = \"/Assignment_2.xlsx\"\n",
        "pd.read_excel('/content/Assignment_2.xlsx')\n",
        "empleados_df = pd.read_excel(\"/content/Asignment_2.xlsx\", sheet_name=\"Employee_Info\")\n",
        "\n",
        "# Mostrar las primeras filas del DataFrame\n",
        "print(\"Información del empleado:\")\n",
        "print(empleados_df.head())\n",
        "\n",
        "# Obtener información sobre el DataFrame\n",
        "print(\"\\nResumen del DataFrame:\")\n",
        "print(empleados_df.info())\n",
        "\n",
        "# Estadísticas descriptivas para las columnas numéricas\n",
        "print(\"\\nEstadísticas descriptivas:\")\n",
        "print(empleados_df.describe())\n",
        "\n",
        "# Verificar valores únicos en algunas columnas\n",
        "print(\"\\nValores únicos en algunas columnas:\")\n",
        "print(\"SVP Leader:\", empleados_df['SVP Leader'].unique())\n",
        "print(\"Cost Center:\", empleados_df['Cost Center'].unique())\n",
        "print(\"Region:\", empleados_df['Region'].unique())"
      ],
      "metadata": {
        "id": "Sm5yhuq7PA7F"
      },
      "execution_count": null,
      "outputs": []
    }
  ]
}